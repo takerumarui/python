{
 "cells": [
  {
   "cell_type": "markdown",
   "id": "d451f92f-be58-4ba1-a967-392a7b177fe1",
   "metadata": {},
   "source": [
    "# excel結合"
   ]
  },
  {
   "cell_type": "code",
   "execution_count": 9,
   "id": "d0c7db1d-eeb1-4e9c-a602-aebb6f842452",
   "metadata": {},
   "outputs": [],
   "source": [
    "#必要なモジュールのインポート\n",
    "import pandas as pd#データフレームでexcelの値を取得できる\n",
    "import glob#ファイル下にあるデータを取得することができる"
   ]
  },
  {
   "cell_type": "code",
   "execution_count": null,
   "id": "c5ccb6ed-ffde-4eaf-bb80-1e61e2f95f31",
   "metadata": {},
   "outputs": [],
   "source": [
    "#ファイルの読み込み\n",
    "files = glob.glob('*.xlsx') #このipynbファイルが保存されている層に存在するexcelファイルを全てfilesとして読み込む"
   ]
  },
  {
   "cell_type": "code",
   "execution_count": 8,
   "id": "29e81eea-3827-4e59-b089-a685f5f99336",
   "metadata": {},
   "outputs": [],
   "source": [
    "#空のリストを用意\n",
    "list = []#行列のイメージ"
   ]
  },
  {
   "cell_type": "code",
   "execution_count": null,
   "id": "f5219b18-94b0-49dc-9ad7-cc154285d277",
   "metadata": {},
   "outputs": [],
   "source": [
    "#リストに必要な列・または行を格納していく　．ただし，print関数を使ってみたら分かるが，そのままでは単に行列になっている\n",
    "for file in files:\n",
    "    list.append(pd.read_excel(file, usecols = ['列の名前'])) #欲しい列のみを指定して，fileに格納する作業を繰り返す　行の場合は異なるメソッドを使う"
   ]
  },
  {
   "cell_type": "code",
   "execution_count": null,
   "id": "e019d60f-9ba7-4cd6-a4c4-00a76ca41f46",
   "metadata": {},
   "outputs": [],
   "source": [
    "#関数の定義　　行列をexcelの形に合うように結合する\n",
    "df = pd.concat(list, axis=1)#axis=1にすることで，列の正の方向にどんどん値を格納していく"
   ]
  },
  {
   "cell_type": "code",
   "execution_count": null,
   "id": "ae7cf697-ff8e-4269-bb13-fdf6d8fd16d0",
   "metadata": {},
   "outputs": [],
   "source": [
    "#結合できた擬似excelファイル（本当はデータフレームで取得した値の集合）をexcelファイルとして出力\n",
    "df.to_excel('completed.xlsx', index = False)#indexをfalseとすることで，０行０列から始まるのを防ぐ"
   ]
  }
 ],
 "metadata": {
  "kernelspec": {
   "display_name": "Python 3 (ipykernel)",
   "language": "python",
   "name": "python3"
  },
  "language_info": {
   "codemirror_mode": {
    "name": "ipython",
    "version": 3
   },
   "file_extension": ".py",
   "mimetype": "text/x-python",
   "name": "python",
   "nbconvert_exporter": "python",
   "pygments_lexer": "ipython3",
   "version": "3.9.12"
  }
 },
 "nbformat": 4,
 "nbformat_minor": 5
}
