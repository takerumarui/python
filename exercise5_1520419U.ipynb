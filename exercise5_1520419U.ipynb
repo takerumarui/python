{
  "nbformat": 4,
  "nbformat_minor": 0,
  "metadata": {
    "colab": {
      "provenance": [],
      "mount_file_id": "1mfsVJ8dKSzyO9C9cZ4-HWIKIs4KgzG97",
      "authorship_tag": "ABX9TyNbyOIhORagzNdKw/RtIgbS",
      "include_colab_link": true
    },
    "kernelspec": {
      "name": "python3",
      "display_name": "Python 3"
    },
    "language_info": {
      "name": "python"
    }
  },
  "cells": [
    {
      "cell_type": "markdown",
      "metadata": {
        "id": "view-in-github",
        "colab_type": "text"
      },
      "source": [
        "<a href=\"https://colab.research.google.com/github/takerumarui/python/blob/main/exercise5_1520419U.ipynb\" target=\"_parent\"><img src=\"https://colab.research.google.com/assets/colab-badge.svg\" alt=\"Open In Colab\"/></a>"
      ]
    },
    {
      "cell_type": "markdown",
      "source": [
        "# 共通部分"
      ],
      "metadata": {
        "id": "3H3Kmu3ZdMVZ"
      }
    },
    {
      "cell_type": "markdown",
      "source": [
        "## 必要なライブラリのインポート"
      ],
      "metadata": {
        "id": "muFNEqj_fGXQ"
      }
    },
    {
      "cell_type": "code",
      "execution_count": 96,
      "metadata": {
        "id": "QSPkqSrQc20y"
      },
      "outputs": [],
      "source": [
        "import pandas as pd\n",
        "from scipy import optimize\n",
        "import matplotlib.pyplot as plt"
      ]
    },
    {
      "cell_type": "markdown",
      "source": [
        "## １次関数を定義する"
      ],
      "metadata": {
        "id": "nA6BePFbeTpY"
      }
    },
    {
      "cell_type": "code",
      "source": [
        "def f(x, a, b):\n",
        "    return a + b * x"
      ],
      "metadata": {
        "id": "4TAktK0Zdf3w"
      },
      "execution_count": 97,
      "outputs": []
    },
    {
      "cell_type": "markdown",
      "source": [
        "## Googleドライブ内にあるColab Notebooksのパスを変数dirに定義する"
      ],
      "metadata": {
        "id": "yCZzpnQuemZN"
      }
    },
    {
      "cell_type": "code",
      "source": [
        "dir = \"/content/drive/MyDrive/Colab Notebooks/\""
      ],
      "metadata": {
        "id": "07WW43GDejMT"
      },
      "execution_count": 98,
      "outputs": []
    },
    {
      "cell_type": "markdown",
      "source": [
        "## Pandasを用いてデータフレームとしてcsvを読み込む"
      ],
      "metadata": {
        "id": "MK-XSZx0e1f_"
      }
    },
    {
      "cell_type": "code",
      "source": [
        "raw = pd.read_csv(dir+\"mean_temperature_tokyo.csv\", index_col=0)"
      ],
      "metadata": {
        "id": "-ouEbnAoe0-O"
      },
      "execution_count": 99,
      "outputs": []
    },
    {
      "cell_type": "markdown",
      "source": [
        "# 課題１：東京気象台で観測された年平均気温のトレンド分析"
      ],
      "metadata": {
        "id": "kEnej4WRdhvW"
      }
    },
    {
      "cell_type": "code",
      "source": [
        "# 年平均気温を計算\n",
        "ann_ave = raw.copy()  # rawのコピーを作成\n",
        "ann_ave[\"Yearly_mean\"] = ann_ave.mean(axis=1)  # 年平均気温の平均を追加\n",
        "\n",
        "# 年平均気温のトレンド分析\n",
        "popt, pcov = optimize.curve_fit(f, ann_ave.index, ann_ave[\"Yearly_mean\"])"
      ],
      "metadata": {
        "id": "Ang5-BW9hNXw"
      },
      "execution_count": 100,
      "outputs": []
    },
    {
      "cell_type": "code",
      "source": [
        " # 横1200px、縦900pxのFigureを作成\n",
        "plt.figure(figsize=(12, 9))\n",
        "\n",
        "# 年平均気温の経年変化（線色は黒）を描画\n",
        "plt.plot(ann_ave[\"Yearly_mean\"], c='k', label=\"raw\")\n",
        "\n",
        "# 年平均気温のトレンド（線色は赤）を描画\n",
        "plt.plot(ann_ave.index, f(ann_ave.index, popt[0], popt[1]), c=\"r\", label=\"trend\")\n",
        "\n",
        "# x軸の範囲を1880年から2022年に設定\n",
        "plt.xlim(ann_ave.index[0], ann_ave.index[-1])\n",
        "# y軸の範囲を10から20に設定\n",
        "plt.ylim(10, 20)\n",
        "\n",
        "# 目盛のフォントサイズを16に指定\n",
        "plt.tick_params(labelsize=16)\n",
        "\n",
        "# x軸ラベル描画（フォントサイズは18に設定）\n",
        "plt.xlabel(\"Year\", fontsize=18)\n",
        "# y軸ラベル描画（フォントサイズは18に設定）\n",
        "plt.ylabel(\"Temperature[deg]\", fontsize=18)\n",
        "\n",
        "# タイトルを描画（フォントサイズは20に設定）\n",
        "plt.title(\"Annual mean temparature\", fontsize=20)\n",
        "# 凡例を図の左上に作成（フォントサイズは16に設定）\n",
        "plt.legend(loc=\"upper left\")\n",
        "\n",
        "# 描画の確認用\n",
        "# plt.show()\n",
        "\n",
        "# 画像を保存\n",
        "plt.savefig(dir+\"annual_mean_temp_trend.png\")\n",
        "# Figureを閉じる\n",
        "plt.close()"
      ],
      "metadata": {
        "id": "jklu5lSof8sl"
      },
      "execution_count": 101,
      "outputs": []
    },
    {
      "cell_type": "markdown",
      "source": [
        "# 課題２：東京気象台で観測された月平均気温のトレンド分析"
      ],
      "metadata": {
        "id": "lZmZ_1lrrj0E"
      }
    },
    {
      "cell_type": "code",
      "source": [
        " # 横1600px、縦1200pxのFigureを作成\n",
        "plt.figure(figsize=(16, 12))\n",
        "\n",
        "# for文を用いてマルチパネルを作る\n",
        "for n, mon in enumerate(raw.columns, start=1):\n",
        "    # 年平均気温のトレンド分析\n",
        "    popt, pcov = optimize.curve_fit(f, raw.index, raw[mon])\n",
        "\n",
        "    # n番目のパネルを作る\n",
        "    plt.subplot(3, 4, n)\n",
        "\n",
        "    # 月平均気温の経年変化（線色は黒）を描画\n",
        "    plt.plot(raw.index, raw[mon], c='k', label=\"raw\")\n",
        "\n",
        "    # 月平均気温のトレンド（線色は赤）を描画\n",
        "    plt.plot(raw.index, f(raw.index, popt[0], popt[1]), c=\"r\", label=\"trend\")\n",
        "\n",
        "    # x軸の範囲を1880年から2022年に設定\n",
        "    plt.xlim(raw.index[0], raw.index[-1])\n",
        "    # y軸の範囲を0から30に設定\n",
        "    plt.ylim(0, 30)\n",
        "\n",
        "    # 目盛のフォントサイズを16に指定\n",
        "    plt.tick_params(labelsize=16)\n",
        "\n",
        "    # x軸ラベル描画（フォントサイズは18に設定）\n",
        "    plt.xlabel(\"Year\", fontsize=18)\n",
        "    # y軸ラベル描画（フォントサイズは18に設定）\n",
        "    plt.ylabel(\"Temperature[deg]\", fontsize=18)\n",
        "\n",
        "    # タイトルを描画（フォントサイズは20に設定）\n",
        "    plt.title(str(mon), fontsize=20)\n",
        "    # 凡例を図の左上に作成（フォントサイズは16に設定）\n",
        "    plt.legend(loc=\"upper left\")\n",
        "\n",
        "# 図の配置を自動修正\n",
        "plt.tight_layout()\n",
        "\n",
        "# 描画の確認用\n",
        "# plt.show()\n",
        "\n",
        "# 画像を保存\n",
        "plt.savefig(dir+\"monthly_temperature_trend.png\")\n",
        "# Figureを閉じる\n",
        "plt.close()"
      ],
      "metadata": {
        "id": "dvWCCkTflM2q"
      },
      "execution_count": 102,
      "outputs": []
    }
  ]
}