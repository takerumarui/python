{
 "cells": [
  {
   "cell_type": "code",
   "execution_count": 1,
   "id": "ed8052ea-6aee-48b1-86d0-a2e4c12adbc6",
   "metadata": {},
   "outputs": [],
   "source": [
    "# 例題１．１"
   ]
  },
  {
   "cell_type": "code",
   "execution_count": 2,
   "id": "eac5ee3e-c90f-461f-a6d6-60f563e23e48",
   "metadata": {},
   "outputs": [
    {
     "name": "stdout",
     "output_type": "stream",
     "text": [
      "a1= [ 0  1  2  3  4  5  6  7  8  9 10]\n",
      "a2= [0.  0.1 0.2 0.3 0.4 0.5 0.6 0.7 0.8 0.9 1. ]\n"
     ]
    }
   ],
   "source": [
    "#numpyの基本：等間隔の数値列\n",
    "import numpy as np\n",
    "\n",
    "#整数の場合\n",
    "a1 = np.arange(0, 11, 1)\n",
    "print(\"a1=\", a1)\n",
    "#実数の場合\n",
    "a2 = np.arange(0, 1.1, 0.1)\n",
    "print(\"a2=\", a2)"
   ]
  },
  {
   "cell_type": "code",
   "execution_count": 3,
   "id": "1dc73d73-3b2a-4afe-bb92-578aa3020861",
   "metadata": {},
   "outputs": [],
   "source": [
    "#例題１．２"
   ]
  },
  {
   "cell_type": "code",
   "execution_count": 4,
   "id": "3287aef2-d5ac-43fb-89c6-67f58f8cbb19",
   "metadata": {},
   "outputs": [
    {
     "name": "stdout",
     "output_type": "stream",
     "text": [
      "a1=\n",
      "[0.80016168 0.98382581 0.17401217 0.28761103 0.95107452]\n",
      "a2=\n",
      "[[22 69  1]\n",
      " [84 25 77]\n",
      " [87 92 76]]\n"
     ]
    }
   ],
   "source": [
    "#numpyの基本：乱数生成\n",
    "import numpy as np\n",
    "\n",
    "#0~1の一様分布の乱数\n",
    "a1 = np.random.rand(5)\n",
    "print(\"a1=\")\n",
    "print(a1)\n",
    "#整数型の一様分布の乱数\n",
    "a2 = np.random.randint(1, 101, (3, 3))\n",
    "print(\"a2=\")\n",
    "print(a2)"
   ]
  },
  {
   "cell_type": "code",
   "execution_count": 5,
   "id": "ff07e90d-3d7e-417d-8dca-2038e5eaacda",
   "metadata": {},
   "outputs": [],
   "source": [
    "#例題１．３"
   ]
  },
  {
   "cell_type": "code",
   "execution_count": 6,
   "id": "0a2b0d91-d0cc-437e-85e5-a9e539c28062",
   "metadata": {},
   "outputs": [
    {
     "name": "stdout",
     "output_type": "stream",
     "text": [
      "[[0. 0. 0. 0.]\n",
      " [0. 0. 0. 0.]\n",
      " [0. 0. 0. 0.]]\n",
      "[[1. 1. 1. 1.]\n",
      " [1. 1. 1. 1.]\n",
      " [1. 1. 1. 1.]]\n",
      "[[1. 0. 0.]\n",
      " [0. 1. 0.]\n",
      " [0. 0. 1.]]\n"
     ]
    }
   ],
   "source": [
    "import numpy as np\n",
    "\n",
    "#２次元の０値配列\n",
    "a1 = np.zeros((3, 4))\n",
    "print(a1)\n",
    "\n",
    "#２次元の１値配列\n",
    "a2 = np.ones((3, 4))\n",
    "print(a2)\n",
    "\n",
    "#単位行列\n",
    "a3 = np.eye(3)\n",
    "print(a3)"
   ]
  },
  {
   "cell_type": "code",
   "execution_count": 7,
   "id": "fafddbac-ca96-4e9e-aa4e-57cb63f28f08",
   "metadata": {},
   "outputs": [],
   "source": [
    "#例題１．４"
   ]
  },
  {
   "cell_type": "code",
   "execution_count": 9,
   "id": "3f13b865-9939-4e68-a9db-d44cd5ad74b7",
   "metadata": {},
   "outputs": [
    {
     "name": "stdout",
     "output_type": "stream",
     "text": [
      "[[1 1 1]\n",
      " [1 1 1]\n",
      " [1 1 1]]\n",
      "[[2 2 2]\n",
      " [2 2 2]\n",
      " [2 2 2]]\n",
      "[[1 1 1]\n",
      " [1 1 1]\n",
      " [1 1 1]\n",
      " [2 2 2]\n",
      " [2 2 2]\n",
      " [2 2 2]]\n",
      "[[1 1 1 2 2 2]\n",
      " [1 1 1 2 2 2]\n",
      " [1 1 1 2 2 2]]\n"
     ]
    }
   ],
   "source": [
    "import numpy as np\n",
    "\n",
    "a1 = np.array([[1, 1, 1],\n",
    "               [1, 1, 1],\n",
    "               [1, 1, 1]])\n",
    "print(a1)\n",
    "\n",
    "a2 = np.array([[2, 2, 2],\n",
    "               [2, 2, 2],\n",
    "               [2, 2, 2]])\n",
    "print(a2)\n",
    "\n",
    "#行列の縦結合\n",
    "a3 = np.concatenate([a1, a2], axis=0)\n",
    "print(a3)\n",
    "\n",
    "#行列の横結合\n",
    "a4 = np.concatenate([a1, a2], axis=1)\n",
    "print(a4)"
   ]
  },
  {
   "cell_type": "code",
   "execution_count": null,
   "id": "bbe52d3c-6922-44da-ab8e-acaa3af07b9b",
   "metadata": {},
   "outputs": [],
   "source": []
  }
 ],
 "metadata": {
  "kernelspec": {
   "display_name": "Python 3 (ipykernel)",
   "language": "python",
   "name": "python3"
  },
  "language_info": {
   "codemirror_mode": {
    "name": "ipython",
    "version": 3
   },
   "file_extension": ".py",
   "mimetype": "text/x-python",
   "name": "python",
   "nbconvert_exporter": "python",
   "pygments_lexer": "ipython3",
   "version": "3.9.12"
  }
 },
 "nbformat": 4,
 "nbformat_minor": 5
}
